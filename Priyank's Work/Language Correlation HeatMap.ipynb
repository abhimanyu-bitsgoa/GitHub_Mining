{
 "cells": [
  {
   "cell_type": "code",
   "execution_count": 5,
   "metadata": {
    "collapsed": false
   },
   "outputs": [
    {
     "data": {
      "text/html": [
       "<iframe id=\"igraph\" scrolling=\"no\" style=\"border:none;\" seamless=\"seamless\" src=\"https://plot.ly/~priyank.lodha/6.embed\" height=\"525px\" width=\"100%\"></iframe>"
      ],
      "text/plain": [
       "<plotly.tools.PlotlyDisplay object>"
      ]
     },
     "execution_count": 5,
     "metadata": {},
     "output_type": "execute_result"
    }
   ],
   "source": [
    "import pandas as pd\n",
    "import operator\n",
    "import matplotlib.pyplot as plt\n",
    "import plotly.plotly as py\n",
    "import plotly.graph_objs as go\n",
    "from random import shuffle\n",
    "import numpy as np\n",
    "import seaborn as sns\n",
    "\n",
    "file = pd.ExcelFile(\"GitHub_Data.xlsx\")\n",
    "df = file.parse(\"sheet1 1\")\n",
    "LangDict = {}\n",
    "for i in range(256):\n",
    "\tLangList = str(df['Languages'][i][1:-1]).split(\", \")\n",
    "\tfor Lang in LangList:\n",
    "\t\ttempLang = Lang[1:-1]\n",
    "\t\tLanguage, Cnt = tempLang.split(\":\")\n",
    "\t\tif Language in LangDict:\n",
    "\t\t\tLangDict[Language] += int(Cnt)\n",
    "\t\telse:\n",
    "\t\t\tLangDict[Language] = int(Cnt)\n",
    "\n",
    "sorted_LangDict = sorted(LangDict.items(), key=operator.itemgetter(1))\n",
    "\n",
    "SelectedLanguages = []\n",
    "NoLang = 16\n",
    "for Lang in sorted_LangDict[-NoLang:]:\n",
    "\tSelectedLanguages.append(str(Lang[0]))\n",
    "\n",
    "IndDict = {}\n",
    "\n",
    "for ind in range(NoLang):\n",
    "\tIndDict[SelectedLanguages[ind]]=ind\n",
    "\n",
    "w, h = NoLang, NoLang\n",
    "HeatMatrix = [[0 for x in range(w)] for y in range(h)]\n",
    "\n",
    "for i in range(256):\n",
    "\tLangList = str(df['Languages'][i][1:-1]).split(\", \")\n",
    "\tLL = []\n",
    "\tfor Lang in LangList:\n",
    "\t\ttempLang = Lang[1:-1]\n",
    "\t\tLanguage, Cnt = tempLang.split(\":\")\n",
    "\t\tif Language in SelectedLanguages:\n",
    "\t\t\tLL.append(Language)\n",
    "\tfor L1 in LL:\n",
    "\t\tfor L2 in LL:\n",
    "\t\t\tif L1 != L2:\n",
    "\t\t\t\tHeatMatrix[IndDict[L1]][IndDict[L2]]+=1\n",
    "\t\t\t\tHeatMatrix[IndDict[L2]][IndDict[L1]]+=1\n",
    "#print HeatMatrix\n",
    "\n",
    "trace = go.Heatmap(z=HeatMatrix,\n",
    "                   x=SelectedLanguages,\n",
    "                   y=SelectedLanguages)\n",
    "data=[trace]\n",
    "py.iplot(data, filename='LangCorrelationHeatMap')"
   ]
  },
  {
   "cell_type": "markdown",
   "metadata": {},
   "source": [
    "1. As we can observe, Javascript being one the majorly used programming lanaguage, its most of the bars are coloured with upper range colours. \n",
    "2. "
   ]
  }
 ],
 "metadata": {
  "anaconda-cloud": {},
  "kernelspec": {
   "display_name": "Python [Root]",
   "language": "python",
   "name": "Python [Root]"
  },
  "language_info": {
   "codemirror_mode": {
    "name": "ipython",
    "version": 2
   },
   "file_extension": ".py",
   "mimetype": "text/x-python",
   "name": "python",
   "nbconvert_exporter": "python",
   "pygments_lexer": "ipython2",
   "version": "2.7.12"
  }
 },
 "nbformat": 4,
 "nbformat_minor": 2
}
