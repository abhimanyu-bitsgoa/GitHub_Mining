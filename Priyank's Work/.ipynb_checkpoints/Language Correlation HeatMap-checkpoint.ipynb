{
 "cells": [
  {
   "cell_type": "code",
<<<<<<< HEAD
   "execution_count": 51,
   "metadata": {
    "collapsed": false
   },
   "outputs": [],
=======
   "execution_count": 5,
   "metadata": {
    "collapsed": false
   },
   "outputs": [
    {
     "data": {
      "text/html": [
       "<iframe id=\"igraph\" scrolling=\"no\" style=\"border:none;\" seamless=\"seamless\" src=\"https://plot.ly/~priyank.lodha/6.embed\" height=\"525px\" width=\"100%\"></iframe>"
      ],
      "text/plain": [
       "<plotly.tools.PlotlyDisplay object>"
      ]
     },
     "execution_count": 5,
     "metadata": {},
     "output_type": "execute_result"
    }
   ],
>>>>>>> 8efd3f2858bd815511be3498929c11a037224213
   "source": [
    "import pandas as pd\n",
    "import operator\n",
    "import matplotlib.pyplot as plt\n",
    "import plotly.plotly as py\n",
    "import plotly.graph_objs as go\n",
    "from random import shuffle\n",
    "import numpy as np\n",
    "import seaborn as sns\n",
<<<<<<< HEAD
    "from copy import copy, deepcopy\n",
=======
>>>>>>> 8efd3f2858bd815511be3498929c11a037224213
    "\n",
    "file = pd.ExcelFile(\"GitHub_Data.xlsx\")\n",
    "df = file.parse(\"sheet1 1\")\n",
    "LangDict = {}\n",
    "for i in range(256):\n",
    "\tLangList = str(df['Languages'][i][1:-1]).split(\", \")\n",
    "\tfor Lang in LangList:\n",
    "\t\ttempLang = Lang[1:-1]\n",
    "\t\tLanguage, Cnt = tempLang.split(\":\")\n",
    "\t\tif Language in LangDict:\n",
    "\t\t\tLangDict[Language] += int(Cnt)\n",
    "\t\telse:\n",
    "\t\t\tLangDict[Language] = int(Cnt)\n",
    "\n",
    "sorted_LangDict = sorted(LangDict.items(), key=operator.itemgetter(1))\n",
    "\n",
    "SelectedLanguages = []\n",
<<<<<<< HEAD
    "NoLang = 50\n",
=======
    "NoLang = 16\n",
>>>>>>> 8efd3f2858bd815511be3498929c11a037224213
    "for Lang in sorted_LangDict[-NoLang:]:\n",
    "\tSelectedLanguages.append(str(Lang[0]))\n",
    "\n",
    "IndDict = {}\n",
    "\n",
    "for ind in range(NoLang):\n",
    "\tIndDict[SelectedLanguages[ind]]=ind\n",
    "\n",
    "w, h = NoLang, NoLang\n",
    "HeatMatrix = [[0 for x in range(w)] for y in range(h)]\n",
    "\n",
    "for i in range(256):\n",
    "\tLangList = str(df['Languages'][i][1:-1]).split(\", \")\n",
    "\tLL = []\n",
    "\tfor Lang in LangList:\n",
    "\t\ttempLang = Lang[1:-1]\n",
    "\t\tLanguage, Cnt = tempLang.split(\":\")\n",
    "\t\tif Language in SelectedLanguages:\n",
    "\t\t\tLL.append(Language)\n",
    "\tfor L1 in LL:\n",
    "\t\tfor L2 in LL:\n",
<<<<<<< HEAD
    "\t\t\tHeatMatrix[IndDict[L1]][IndDict[L2]]+=1\n",
    "#print HeatMatrix\n",
    "\n",
    "for row in range(0, len(HeatMatrix)):\n",
    "      for col in range(0, len(HeatMatrix[row])):\n",
    "          HeatMatrix[row][col] = float(float(HeatMatrix[row][col]) / 238)*10\n",
    "\n",
    "dict = {'JavaScript': 10, 'C':7, 'Java': 4}\n",
    "GivLang = []\n",
    "for key, value in dict.iteritems() :\n",
    "    GivLang.append(key)\n",
    "    \n",
    "for Lang in SelectedLanguages:\n",
    "    if Lang not in GivLang:\n",
    "        temp = 0\n",
    "        for L1 in GivLang:\n",
    "            temp += dict[L1]*HeatMatrix[IndDict[L1]][IndDict[Lang]]\n",
    "        dict[Lang] = float(temp)/len(dict)\n",
    "\n",
    "file11 = pd.ExcelFile(\"W_matrix.xlsx\")\n",
    "df11 = file11.parse(\"sheet1\")\n",
    "\n",
    "\n",
    "\n",
    "\n",
    "LangScore = []\n",
    "\n",
    "\n",
    "for i in range(256):\n",
    "    temp = 0\n",
    "    for key, value in dict.iteritems() :\n",
    "        temp += value * float(df11[key][i])\n",
    "    LangScore.append(temp)\n",
    "    \n",
    "\n",
    "file2 = pd.ExcelFile(\"Some.xlsx\")\n",
    "df2 = file2.parse(\"Sheet1\")\n",
    "\n",
    "df2['LanguageScore'] = LangScore\n",
    "df2.to_excel('FinalScore.xlsx',sheet_name='Sheet1', index = False)"
   ]
  },
  {
   "cell_type": "code",
   "execution_count": null,
   "metadata": {
    "collapsed": true
   },
   "outputs": [],
   "source": []
  },
  {
   "cell_type": "code",
   "execution_count": null,
   "metadata": {
    "collapsed": true
   },
   "outputs": [],
   "source": []
  },
  {
=======
    "\t\t\tif L1 != L2:\n",
    "\t\t\t\tHeatMatrix[IndDict[L1]][IndDict[L2]]+=1\n",
    "\t\t\t\tHeatMatrix[IndDict[L2]][IndDict[L1]]+=1\n",
    "#print HeatMatrix\n",
    "\n",
    "trace = go.Heatmap(z=HeatMatrix,\n",
    "                   x=SelectedLanguages,\n",
    "                   y=SelectedLanguages)\n",
    "data=[trace]\n",
    "py.iplot(data, filename='LangCorrelationHeatMap')"
   ]
  },
  {
>>>>>>> 8efd3f2858bd815511be3498929c11a037224213
   "cell_type": "markdown",
   "metadata": {},
   "source": [
    "1. As we can observe, Javascript being one the majorly used programming lanaguage, its most of the bars are coloured with upper range colours. \n",
    "2. "
   ]
  }
 ],
 "metadata": {
  "anaconda-cloud": {},
  "kernelspec": {
<<<<<<< HEAD
   "display_name": "Python [conda root]",
   "language": "python",
   "name": "conda-root-py"
=======
   "display_name": "Python [Root]",
   "language": "python",
   "name": "Python [Root]"
>>>>>>> 8efd3f2858bd815511be3498929c11a037224213
  },
  "language_info": {
   "codemirror_mode": {
    "name": "ipython",
    "version": 2
   },
   "file_extension": ".py",
   "mimetype": "text/x-python",
   "name": "python",
   "nbconvert_exporter": "python",
   "pygments_lexer": "ipython2",
<<<<<<< HEAD
   "version": "2.7.13"
=======
   "version": "2.7.12"
>>>>>>> 8efd3f2858bd815511be3498929c11a037224213
  }
 },
 "nbformat": 4,
 "nbformat_minor": 2
}
