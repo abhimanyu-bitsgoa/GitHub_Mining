{
 "cells": [
  {
   "cell_type": "code",
   "execution_count": 23,
   "metadata": {
    "collapsed": false
   },
   "outputs": [
    {
     "name": "stdout",
     "output_type": "stream",
     "text": [
      "49\n"
     ]
    }
   ],
   "source": [
    "import pandas as pd\n",
    "import operator\n",
    "import matplotlib.pyplot as plt\n",
    "import plotly.plotly as py\n",
    "import plotly.graph_objs as go\n",
    "from random import shuffle\n",
    "import numpy as np\n",
    "import seaborn as sns\n",
    "\n",
    "def removeK(col):\n",
    "    global df\n",
    "    i=0\n",
    "    for num in df[col]:\n",
    "        if 'k' in num:\n",
    "            df.loc[i,col] = float(df.loc[i,col].replace('k',''))*1000\n",
    "            df.loc[i,col] = int(df.loc[i,col])\n",
    "        i=i+1\n",
    "def normalize(col):\n",
    "    global df\n",
    "    maxi = 0\n",
    "    for i in range(256):\n",
    "        maxi = max(maxi, int(df[col][i]))\n",
    "    print maxi\n",
    "    for i in range(256):\n",
    "        df[col][i] /= maxi\n",
    "\n",
    "file = pd.ExcelFile(\"Updated_GitHub_Data.xlsx\")\n",
    "df = file.parse(\"sheet1\")\n",
    "LangDict = {}\n",
    "for i in range(256):\n",
    "\tLangList = str(df['Languages'][i][1:-1]).split(\", \")\n",
    "\tfor Lang in LangList:\n",
    "\t\ttempLang = Lang[1:-1]\n",
    "\t\tLanguage, Cnt = tempLang.split(\":\")\n",
    "\t\tif Language in LangDict:\n",
    "\t\t\tLangDict[Language] += int(Cnt)\n",
    "\t\telse:\n",
    "\t\t\tLangDict[Language] = int(Cnt)\n",
    "\n",
    "sorted_LangDict = sorted(LangDict.items(), key=operator.itemgetter(1))\n",
    "\n",
    "SelectedLanguages = []\n",
    "NoLang = 50\n",
    "for Lang in sorted_LangDict[-NoLang:]:\n",
    "\tSelectedLanguages.append(str(Lang[0]))\n",
    "removeK('Followers')\n",
    "print df['Years_Active'].max()\n",
    "df['Years_Active'] = df['Years_Active']/max(df['Years_Active'])\n",
    "# df_new = df[['Username', 'Years_Active']].copy()\n",
    "                "
   ]
  }
 ],
 "metadata": {
  "anaconda-cloud": {},
  "kernelspec": {
   "display_name": "Python [conda root]",
   "language": "python",
   "name": "conda-root-py"
  },
  "language_info": {
   "codemirror_mode": {
    "name": "ipython",
    "version": 2
   },
   "file_extension": ".py",
   "mimetype": "text/x-python",
   "name": "python",
   "nbconvert_exporter": "python",
   "pygments_lexer": "ipython2",
   "version": "2.7.13"
  }
 },
 "nbformat": 4,
 "nbformat_minor": 2
}
