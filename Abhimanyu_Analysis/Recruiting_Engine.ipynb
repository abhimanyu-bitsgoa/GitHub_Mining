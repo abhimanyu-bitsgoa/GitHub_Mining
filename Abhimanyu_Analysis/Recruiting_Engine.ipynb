{
 "cells": [
  {
   "cell_type": "code",
   "execution_count": 137,
   "metadata": {
    "collapsed": false
   },
   "outputs": [
    {
     "name": "stdout",
     "output_type": "stream",
     "text": [
      "['ActionScript', 'ApacheConf', 'Arduino', 'Assembly', 'Batchfile', 'C', 'C#', 'C++', 'CSS', 'Cirru', 'Clojure', 'CoffeeScript', 'Common Lisp', 'Elixir', 'Elm', 'Emacs Lisp', 'Erlang', 'GLSL', 'Go', 'Groovy', 'HTML', 'Haskell', 'Java', 'JavaScript', 'Jupyter Notebook', 'Kotlin', 'Lua', 'Makefile', 'MoonScript', 'OCaml', 'Objective-C', 'PHP', 'Perl', 'Perl 6', 'PowerShell', 'Processing', 'Puppet', 'PureScript', 'Python', 'R', 'Ruby', 'Rust', 'Scala', 'Scheme', 'Shell', 'Standard ML', 'Swift', 'TeX', 'TypeScript', 'Vim script', 'Username']\n"
     ]
    }
   ],
   "source": [
    "##Code to get W matrix (Normalised)\n",
    "\n",
    "import pandas as pd\n",
    "import numpy as np\n",
    "import operator\n",
    "import matplotlib.pyplot as plt\n",
    "%matplotlib inline\n",
    "import seaborn as sns\n",
    "ff=pd.ExcelFile('/home/aronzx/Desktop/Data Mining/Abhimanyu_Analysis/Final_GitHub_Data.xlsx')\n",
    "df=ff.parse(ff.sheet_names)\n",
    "df=df[ff.sheet_names[0]]\n",
    "LangDict = {}\n",
    "for i in range(256):\n",
    "    LangList = str(df['Languages'][i][1:-1]).split(\", \")\n",
    "    for Lang in LangList:\n",
    "        tempLang = Lang[1:-1]\n",
    "        Language, Cnt = tempLang.split(\":\")\n",
    "#         print Language, Cnt\n",
    "        if Language in LangDict:\n",
    "            LangDict[Language] += int(Cnt)\n",
    "        else:\n",
    "            LangDict[Language] = int(Cnt)\n",
    "\n",
    "sorted_LangDict = sorted(LangDict.items(), key=operator.itemgetter(1),reverse=True)\n",
    "selected_Lang=[]\n",
    "for j in sorted_LangDict[:50]:\n",
    "    selected_Lang.append(j[0])\n",
    "selected_Lang.sort()\n",
    "selected_Lang.append('Username')\n",
    "print selected_Lang\n",
    "# df_final = pd.DataFrame(columns=selected_Lang)\n",
    "# print df_final\n",
    "tempList=[]\n",
    "for i in range(256):\n",
    "    LangList = str(df['Languages'][i][1:-1]).split(\", \")\n",
    "    di=dict((el,0) for el in selected_Lang)\n",
    "    di['Username']=df['Username'][i]\n",
    "    for Lang in LangList:\n",
    "        tempLang = Lang[1:-1]\n",
    "        Language, Cnt = tempLang.split(\":\")\n",
    "        if Language in selected_Lang:\n",
    "            di[Language]=Cnt\n",
    "    tempList.append(di)\n",
    "df_final = pd.DataFrame(tempList)  \n",
    "for column in df_final:\n",
    "    if column!='Username':\n",
    "        df_final[column]=pd.to_numeric(df_final[column])\n",
    "        df_final[column]=df_final[column]/df_final[column].max()\n",
    "df_final.to_excel('W_Matrix.xlsx', sheet_name='sheet1', index=False)"
   ]
  },
  {
   "cell_type": "code",
   "execution_count": 2,
   "metadata": {
    "collapsed": false
   },
   "outputs": [
    {
     "name": "stdout",
     "output_type": "stream",
     "text": [
      "How many languages you want the applicant to be familiar with? 3\n",
      "Enter 3 language codes from the list along with their impotance to you on a scale of 1 to 10 separated with a comma(10 being highly important)\n",
      "\n",
      "Language : Code\n",
      "ActionScript = 0\n",
      "ApacheConf = 1\n",
      "Arduino = 2\n",
      "Assembly = 3\n",
      "Batchfile = 4\n",
      "C = 5\n",
      "C# = 6\n",
      "C++ = 7\n",
      "CSS = 8\n",
      "Cirru = 9\n",
      "Clojure = 10\n",
      "CoffeeScript = 11\n",
      "Common Lisp = 12\n",
      "Elixir = 13\n",
      "Elm = 14\n",
      "Emacs Lisp = 15\n",
      "Erlang = 16\n",
      "GLSL = 17\n",
      "Go = 18\n",
      "Groovy = 19\n",
      "HTML = 20\n",
      "Haskell = 21\n",
      "Java = 22\n",
      "JavaScript = 23\n",
      "Jupyter Notebook = 24\n",
      "Kotlin = 25\n",
      "Lua = 26\n",
      "Makefile = 27\n",
      "MoonScript = 28\n",
      "OCaml = 29\n",
      "Objective-C = 30\n",
      "PHP = 31\n",
      "Perl = 32\n",
      "Perl 6 = 33\n",
      "PowerShell = 34\n",
      "Processing = 35\n",
      "Puppet = 36\n",
      "PureScript = 37\n",
      "Python = 38\n",
      "R = 39\n",
      "Ruby = 40\n",
      "Rust = 41\n",
      "Scala = 42\n",
      "Scheme = 43\n",
      "Shell = 44\n",
      "Standard ML = 45\n",
      "Swift = 46\n",
      "TeX = 47\n",
      "TypeScript = 48\n",
      "Vim script = 49\n",
      "Username = 50\n",
      "Enter language and its importance separated by a comma0,1\n",
      "Enter language and its importance separated by a comma1,2\n",
      "Enter language and its importance separated by a comma2,5\n",
      "set([2.0, 5.0])\n"
     ]
    }
   ],
   "source": [
    "# experience = int(raw_input(\"On a scale of 1 to 4 how much important is experience for you. (4 being most important!)\"))\n",
    "# activity = int(raw_input(\"On a scale of 1 to 4 how much important is user activity for you. (4 being most important!)\"))\n",
    "# user_popularity = int(raw_input(\"On a scale of 1 to 4 how much important is user popularity for you. (4 being most important!)\"))\n",
    "# user_consistency = int(raw_input(\"On a scale of 1 to 4 how much important is user consistency for you. (4 being most important!)\"))\n",
    "lang_cnt=int(raw_input(\"How many languages you want the applicant to be familiar with? \"))\n",
    "print \"Enter\" , lang_cnt ,\"language codes from the list along with their impotance to you on a scale of 1 to 10 separated with a comma(10 being highly important)\"\n",
    "print \"\"\n",
    "print \"Language : Code\"\n",
    "lang_list=['ActionScript', 'ApacheConf', 'Arduino', 'Assembly', 'Batchfile', 'C', 'C#', 'C++', 'CSS', 'Cirru', 'Clojure', 'CoffeeScript', 'Common Lisp', 'Elixir', 'Elm', 'Emacs Lisp', 'Erlang', 'GLSL', 'Go', 'Groovy', 'HTML', 'Haskell', 'Java', 'JavaScript', 'Jupyter Notebook', 'Kotlin', 'Lua', 'Makefile', 'MoonScript', 'OCaml', 'Objective-C', 'PHP', 'Perl', 'Perl 6', 'PowerShell', 'Processing', 'Puppet', 'PureScript', 'Python', 'R', 'Ruby', 'Rust', 'Scala', 'Scheme', 'Shell', 'Standard ML', 'Swift', 'TeX', 'TypeScript', 'Vim script', 'Username']\n",
    "i=0\n",
    "for lang in lang_list:\n",
    "    print lang,\"=\",i\n",
    "    i=i+1\n",
    "lang_importance_dict={}\n",
    "for j in range(0,lang_cnt):\n",
    "    name,importance = map(float, raw_input('Enter language and its importance separated by a comma').split(','))\n",
    "#     lang_importance_dict={lang_list[],importance}\n",
    "print lang_importance_dict"
   ]
  },
  {
   "cell_type": "code",
   "execution_count": null,
   "metadata": {
    "collapsed": true
   },
   "outputs": [],
   "source": []
  }
 ],
 "metadata": {
  "kernelspec": {
   "display_name": "Python [Root]",
   "language": "python",
   "name": "Python [Root]"
  },
  "language_info": {
   "codemirror_mode": {
    "name": "ipython",
    "version": 2
   },
   "file_extension": ".py",
   "mimetype": "text/x-python",
   "name": "python",
   "nbconvert_exporter": "python",
   "pygments_lexer": "ipython2",
   "version": "2.7.12"
  }
 },
 "nbformat": 4,
 "nbformat_minor": 2
}
